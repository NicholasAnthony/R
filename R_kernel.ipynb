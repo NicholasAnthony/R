{
  "cells": [
    {
      "cell_type": "markdown",
      "metadata": {
        "id": "view-in-github",
        "colab_type": "text"
      },
      "source": [
        "<a href=\"https://colab.research.google.com/github/NicholasAnthony/R/blob/main/R_kernel.ipynb\" target=\"_parent\"><img src=\"https://colab.research.google.com/assets/colab-badge.svg\" alt=\"Open In Colab\"/></a>"
      ]
    },
    {
      "cell_type": "markdown",
      "metadata": {
        "id": "89ZtJlrqFrXu"
      },
      "source": [
        "This is an excercise called \"Monty Hall\" to demonstrate probability in R"
      ]
    },
    {
      "cell_type": "code",
      "execution_count": null,
      "metadata": {
        "id": "RiceonaCFrXw"
      },
      "outputs": [],
      "source": [
        "# set random seed\n",
        "set.seed(101)"
      ]
    },
    {
      "cell_type": "code",
      "execution_count": null,
      "metadata": {
        "id": "9camH7JkF1St"
      },
      "outputs": [],
      "source": [
        "# create doors a,b ,c\n",
        "doors <- c('door_a', 'door_b', 'door_c')\n",
        "\n",
        "#randomly place the car\n",
        "car <- sample(doors, 1)\n",
        "\n",
        "#pick a door (1st, 2nd, 3rd)\n",
        "pick <- sample(doors, 3)\n",
        "\n",
        "# choose door to reveal\n",
        "reveal <- 'x'\n",
        "# if pick = car then reveal either other doors\n",
        "reveal[pick[1] == car] <- pick[2]\n",
        "# if pick != car reveal != car\n",
        "reveal[pick[1] != car & pick[2] == car] <- pick[3]\n",
        "reveal[reveal == 'x'] <- pick[2]\n",
        "\n",
        "#removed revealed door\n",
        "doors_left <- doors %in% reveal\n",
        "doors_left <- doors[!doors_left]\n",
        "\n",
        "# determine if win for a) sticking & b) switching\n",
        "stick <- 'lose'\n",
        "stick[pick[1] == car] <- \"win\"\n",
        "switch <- 'lose'\n",
        "switch[pick[1] == car] <- \"win\"\n"
      ]
    },
    {
      "cell_type": "code",
      "source": [
        "#set.seed(123)\n",
        "test <- rnorm(6000,69,25)\n",
        "hist(test)\n",
        "summary(test)\n"
      ],
      "metadata": {
        "colab": {
          "base_uri": "https://localhost:8080/",
          "height": 472
        },
        "id": "xb--xwcIaX6Z",
        "outputId": "1a27a237-0433-4dd2-f390-5e903f5f6304"
      },
      "execution_count": null,
      "outputs": [
        {
          "output_type": "display_data",
          "data": {
            "text/plain": [
              "   Min. 1st Qu.  Median    Mean 3rd Qu.    Max. \n",
              " -24.10   52.31   68.91   68.96   85.97  165.72 "
            ]
          },
          "metadata": {}
        },
        {
          "output_type": "display_data",
          "data": {
            "text/plain": [
              "Plot with title “Histogram of test”"
            ],
            "image/png": "[encoded data removed]"
          },
          "metadata": {
            "image/png": {
              "width": 420,
              "height": 420
            }
          }
        }
      ]
    }
  ],
  "metadata": {
    "colab": {
      "provenance": [],
      "include_colab_link": true
    },
    "kernelspec": {
      "display_name": "R",
      "language": "R",
      "name": "ir"
    },
    "language_info": {
      "codemirror_mode": "r",
      "file_extension": ".r",
      "mimetype": "text/x-r-source",
      "name": "R",
      "pygments_lexer": "r",
      "version": "3.6.1"
    },
    "toc": {
      "base_numbering": 1,
      "nav_menu": {},
      "number_sections": true,
      "sideBar": true,
      "skip_h1_title": true,
      "title_cell": "Table of Contents",
      "title_sidebar": "Contents",
      "toc_cell": false,
      "toc_position": {},
      "toc_section_display": true,
      "toc_window_display": false
    },
    "varInspector": {
      "cols": {
        "lenName": 16,
        "lenType": 16,
        "lenVar": 40
      },
      "kernels_config": {
        "python": {
          "delete_cmd_postfix": "",
          "delete_cmd_prefix": "del ",
          "library": "var_list.py",
          "varRefreshCmd": "print(var_dic_list())"
        },
        "r": {
          "delete_cmd_postfix": ") ",
          "delete_cmd_prefix": "rm(",
          "library": "var_list.r",
          "varRefreshCmd": "cat(var_dic_list()) "
        }
      },
      "types_to_exclude": [
        "module",
        "function",
        "builtin_function_or_method",
        "instance",
        "_Feature"
      ],
      "window_display": false
    }
  },
  "nbformat": 4,
  "nbformat_minor": 0
}